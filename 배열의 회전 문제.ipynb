{
 "cells": [
  {
   "cell_type": "code",
   "execution_count": 1,
   "metadata": {},
   "outputs": [
    {
     "data": {
      "text/plain": [
       "'def rotate(arr):\\n    return arr[-1:] + arr[:-1]\\n\\ndef solution(arrA, arrB):\\n    arrA_len = len(arrA)\\n    arrB_len = len(arrB)\\n\\n    # 길이가 다른 배열은 회전해도 같아질 수 없으므로, early return\\n    if(arrA_len!=arrB_len):\\n        return False\\n\\n    # arrA를 한칸씩 회전하며, arrB와 같은지 확인\\n    for _ in range(arrA_len):\\n        if arrA == arrB:\\n            return True\\n        arrA = rotate(arrA)\\n    return False'"
      ]
     },
     "execution_count": 1,
     "metadata": {},
     "output_type": "execute_result"
    }
   ],
   "source": [
    "def solution(arrA, arrB):\n",
    "    answer = True\n",
    "    arrA.sort()\n",
    "    arrB.sort()\n",
    "    if arrA == arrB:\n",
    "        return True\n",
    "    else:\n",
    "        return False \n",
    "    return answer\n",
    "\n",
    "# Solution\n",
    "# def rotate(arr):\n",
    "#     return arr[-1:] + arr[:-1]\n",
    "\n",
    "# def solution(arrA, arrB):\n",
    "#     arrA_len = len(arrA)\n",
    "#     arrB_len = len(arrB)\n",
    "\n",
    "#     # 길이가 다른 배열은 회전해도 같아질 수 없으므로, early return\n",
    "#     if(arrA_len!=arrB_len):\n",
    "#         return False\n",
    "\n",
    "#     # arrA를 한칸씩 회전하며, arrB와 같은지 확인\n",
    "#     for _ in range(arrA_len):\n",
    "#         if arrA == arrB:\n",
    "#             return True\n",
    "#         arrA = rotate(arrA)\n",
    "#     return False"
   ]
  },
  {
   "cell_type": "code",
   "execution_count": null,
   "metadata": {},
   "outputs": [],
   "source": []
  }
 ],
 "metadata": {
  "kernelspec": {
   "display_name": "Python 3",
   "language": "python",
   "name": "python3"
  },
  "language_info": {
   "codemirror_mode": {
    "name": "ipython",
    "version": 3
   },
   "file_extension": ".py",
   "mimetype": "text/x-python",
   "name": "python",
   "nbconvert_exporter": "python",
   "pygments_lexer": "ipython3",
   "version": "3.6.5"
  }
 },
 "nbformat": 4,
 "nbformat_minor": 2
}
