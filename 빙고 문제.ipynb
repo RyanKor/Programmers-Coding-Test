{
 "cells": [
  {
   "cell_type": "code",
   "execution_count": null,
   "metadata": {},
   "outputs": [],
   "source": [
    "#Solution\n",
    "def solution(board, nums):\n",
    "    n = len(board)\n",
    "    vertical = [0 for _ in range(n)] #정답은 어떻게 이렇게 생각할 수 있지?\n",
    "    horizontal = [0 for _ in range(n)]\n",
    "    lu_diag = 0\n",
    "    ru_diag = 0\n",
    "\n",
    "    # 탐색을 O(1)로 하기 위해 nums를 set 자료구조로 변환. 탐색 속도를 이렇게 높일 수도 있구나..;\n",
    "    nums = set(nums)\n",
    "    for i in range(n): #여기까지 내가 고민했던 부분. 아무리해도 연산속도가 O(N^3)이 나와서 풀다가 시간을 다썼다.\n",
    "        for j in range(n):\n",
    "            if board[i][j] in nums:\n",
    "                horizontal[i]+=1\n",
    "                vertical[j]+=1\n",
    "                if i == j:\n",
    "                    lu_diag+=1\n",
    "                if i + j == n - 1:\n",
    "                    ru_diag += 1\n",
    "\n",
    "    cnt = 0\n",
    "    cnt += vertical.count(n)\n",
    "    cnt += horizontal.count(n)\n",
    "    if lu_diag == n:\n",
    "        cnt += 1\n",
    "    if ru_diag == n:\n",
    "        cnt += 1\n",
    "    return cnt"
   ]
  }
 ],
 "metadata": {
  "kernelspec": {
   "display_name": "Python 3",
   "language": "python",
   "name": "python3"
  },
  "language_info": {
   "codemirror_mode": {
    "name": "ipython",
    "version": 3
   },
   "file_extension": ".py",
   "mimetype": "text/x-python",
   "name": "python",
   "nbconvert_exporter": "python",
   "pygments_lexer": "ipython3",
   "version": "3.6.5"
  }
 },
 "nbformat": 4,
 "nbformat_minor": 2
}
